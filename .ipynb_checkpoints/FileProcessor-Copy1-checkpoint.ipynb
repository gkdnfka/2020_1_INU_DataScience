{
 "cells": [
  {
   "cell_type": "code",
   "execution_count": 1,
   "metadata": {},
   "outputs": [],
   "source": [
    "import pandas \n",
    "\n",
    "data = pandas.read_csv(\"./MovieGenre.csv\")\n"
   ]
  },
  {
   "cell_type": "code",
   "execution_count": 2,
   "metadata": {},
   "outputs": [
    {
     "name": "stdout",
     "output_type": "stream",
     "text": [
      "['Comedy']\n"
     ]
    }
   ],
   "source": [
    "titles = data.loc[:, 'Title']\n",
    "genres = data.loc[:, 'Genre']\n",
    "posters = data.loc[:, 'Poster']\n",
    "\n",
    "df = pandas.DataFrame(columns = ['Title', 'Genre', 'Poster'])\n",
    "\n",
    "print(genres.loc[17].split('|'))"
   ]
  },
  {
   "cell_type": "code",
   "execution_count": 3,
   "metadata": {},
   "outputs": [],
   "source": [
    "import os"
   ]
  },
  {
   "cell_type": "code",
   "execution_count": 4,
   "metadata": {},
   "outputs": [],
   "source": [
    "#Image download and new .csv file make\n",
    "\n",
    "import urllib.request\n",
    "import csv\n",
    "import math\n",
    "\n",
    "newCSVIdx = 0\n",
    "\n",
    "for i in range(len(posters)):\n",
    "    if(newCSVIdx < 30000):\n",
    "        url = posters[i]\n",
    "        try:\n",
    "            path = './train_images/'+ genres[i].split('|')[0]\n",
    "        except AttributeError:\n",
    "            continue\n",
    "        \n",
    "        if os.path.isdir(path):\n",
    "            image_loc = path + '/poster_'+ str(newCSVIdx) +'.jpg'\n",
    "        else :\n",
    "            os.mkdir(path)\n",
    "            image_loc = path + '/poster_'+ str(newCSVIdx) +'.jpg'\n",
    "            \n",
    "        try:            \n",
    "            urllib.request.urlretrieve(url, image_loc)\n",
    "        except (urllib.error.HTTPError, TypeError):\n",
    "            continue\n",
    "    \n",
    "        try:\n",
    "            df.loc[newCSVIdx] = [titles[i], genres[i].split('|')[0], image_loc]\n",
    "        except AttributeError:\n",
    "            continue\n",
    "        \n",
    "        newCSVIdx += 1\n",
    "    else:\n",
    "        url = posters[i]\n",
    "        try:\n",
    "            path = './test_images/'+ genres[i].split('|')[0]\n",
    "        except AttributeError:\n",
    "            continue\n",
    "        \n",
    "        if os.path.isdir(path):\n",
    "            image_loc = path + '/poster_'+ str(newCSVIdx) +'.jpg'\n",
    "        else :\n",
    "            os.mkdir(path)\n",
    "            image_loc = path + '/poster_'+ str(newCSVIdx) +'.jpg'\n",
    "        try:            \n",
    "            urllib.request.urlretrieve(url, image_loc)\n",
    "        except (urllib.error.HTTPError, TypeError):\n",
    "            continue\n",
    "    \n",
    "        try:\n",
    "            df.loc[newCSVIdx] = [titles[i], genres[i].split('|')[0], image_loc]\n",
    "        except AttributeError:\n",
    "            continue\n",
    "        \n",
    "        newCSVIdx += 1"
   ]
  },
  {
   "cell_type": "code",
   "execution_count": 5,
   "metadata": {},
   "outputs": [],
   "source": [
    "df.loc[:29999].to_csv(\"./MoveGenreTrain.csv\")"
   ]
  },
  {
   "cell_type": "code",
   "execution_count": 6,
   "metadata": {},
   "outputs": [],
   "source": [
    "df.loc[30000:].to_csv(\"./MoveGenreTest.csv\")"
   ]
  },
  {
   "cell_type": "code",
   "execution_count": 7,
   "metadata": {},
   "outputs": [],
   "source": [
    "kind_genre = list(set(df.loc[:, 'Genre']))"
   ]
  },
  {
   "cell_type": "code",
   "execution_count": 8,
   "metadata": {},
   "outputs": [
    {
     "name": "stdout",
     "output_type": "stream",
     "text": [
      "37456\n",
      "25\n",
      "25\n",
      "24\n"
     ]
    }
   ],
   "source": [
    "print(len(df))\n",
    "print(len(kind_genre))\n",
    "print(len(list(set(df.loc[:29999, 'Genre']))))\n",
    "print(len(list(set(df.loc[30000:, 'Genre']))))"
   ]
  }
 ],
 "metadata": {
  "kernelspec": {
   "display_name": "Python 3",
   "language": "python",
   "name": "python3"
  },
  "language_info": {
   "codemirror_mode": {
    "name": "ipython",
    "version": 3
   },
   "file_extension": ".py",
   "mimetype": "text/x-python",
   "name": "python",
   "nbconvert_exporter": "python",
   "pygments_lexer": "ipython3",
   "version": "3.7.6"
  }
 },
 "nbformat": 4,
 "nbformat_minor": 4
}
