{
 "cells": [
  {
   "cell_type": "code",
   "execution_count": 1,
   "metadata": {},
   "outputs": [],
   "source": [
    "import numpy as np\n",
    "import torch\n",
    "import torch.nn as nn\n",
    "import torch.optim as optim\n",
    "import torch.nn.init as init\n",
    "import torch.utils.data as data\n",
    "import torchvision.datasets as dset\n",
    "import torchvision.transforms as transforms\n",
    "from torch.utils.data import DataLoader\n",
    "\n",
    "import matplotlib.pyplot as plt\n",
    "\n",
    "import time"
   ]
  },
  {
   "cell_type": "code",
   "execution_count": 2,
   "metadata": {},
   "outputs": [],
   "source": [
    "import torchvision.models as models\n",
    "\n",
    "model = models.resnet50(pretrained=False).cuda()"
   ]
  },
  {
   "cell_type": "code",
   "execution_count": 3,
   "metadata": {},
   "outputs": [],
   "source": [
    "batch_size= 2\n",
    "learning_rate = 0.0002\n",
    "num_epoch = 10"
   ]
  },
  {
   "cell_type": "code",
   "execution_count": 4,
   "metadata": {},
   "outputs": [],
   "source": [
    "import pandas \n",
    "\n",
    "train_data = pandas.read_csv(\"./MoveGenreTrain.csv\")\n",
    "test_data = pandas.read_csv(\"./MoveGenreTest.csv\")\n",
    "\n",
    "df = pandas.DataFrame(columns = ['Num_epoch','Learning_rate', 'Loss_avr'])"
   ]
  },
  {
   "cell_type": "code",
   "execution_count": 5,
   "metadata": {},
   "outputs": [],
   "source": [
    "train_dir = \"./train_images\"\n",
    "\n",
    "train_data = dset.ImageFolder(train_dir, transforms.Compose([\n",
    "                                    transforms.Resize(280),                   \n",
    "                                    transforms.CenterCrop(224),               \n",
    "                                    transforms.ToTensor(),\n",
    "                                    transforms.Normalize([0.485, 0.456, 0.406],\n",
    "                                    [0.229, 0.224, 0.225])\n",
    "            ]))\n",
    "train_loader = data.DataLoader(train_data, batch_size=batch_size,\n",
    "                            shuffle=True, num_workers=3)\n",
    "\n",
    "test_dir = \"./test_images\"\n",
    "\n",
    "test_data = dset.ImageFolder(test_dir, transforms.Compose([\n",
    "                                    transforms.Resize(280),                   \n",
    "                                    transforms.CenterCrop(224),               \n",
    "                                    transforms.ToTensor(),\n",
    "                                    transforms.Normalize([0.485, 0.456, 0.406],\n",
    "                                    [0.229, 0.224, 0.225])\n",
    "            ]))\n",
    "\n",
    "test_loader = data.DataLoader(test_data, batch_size=1,\n",
    "                            shuffle=False, num_workers=3)"
   ]
  },
  {
   "cell_type": "code",
   "execution_count": 6,
   "metadata": {},
   "outputs": [
    {
     "name": "stdout",
     "output_type": "stream",
     "text": [
      "cuda:0\n"
     ]
    }
   ],
   "source": [
    "device = torch.device(\"cuda:0\" if torch.cuda.is_available() else \"cpu\")\n",
    "print(device)\n",
    "    \n",
    "loss_func = nn.CrossEntropyLoss()\n",
    "optimizer = optim.Adam(model.parameters(),lr=learning_rate)\n",
    "loss_sum = 0\n",
    "loss_arr = []"
   ]
  },
  {
   "cell_type": "code",
   "execution_count": 7,
   "metadata": {},
   "outputs": [
    {
     "name": "stdout",
     "output_type": "stream",
     "text": [
      "tensor(1.2841, device='cuda:0', grad_fn=<NllLossBackward>)\n",
      "tensor(3.1323, device='cuda:0', grad_fn=<NllLossBackward>)\n",
      "tensor(2.2905, device='cuda:0', grad_fn=<NllLossBackward>)\n",
      "tensor(2.3426, device='cuda:0', grad_fn=<NllLossBackward>)\n",
      "tensor(1.4567, device='cuda:0', grad_fn=<NllLossBackward>)\n",
      "tensor(1.6999, device='cuda:0', grad_fn=<NllLossBackward>)\n",
      "tensor(0.8815, device='cuda:0', grad_fn=<NllLossBackward>)\n",
      "tensor(1.1162, device='cuda:0', grad_fn=<NllLossBackward>)\n",
      "tensor(1.6547, device='cuda:0', grad_fn=<NllLossBackward>)\n",
      "tensor(2.8314, device='cuda:0', grad_fn=<NllLossBackward>)\n"
     ]
    }
   ],
   "source": [
    "for i in range(num_epoch):\n",
    "    epoch_time = time.time()\n",
    "    \n",
    "    for j,[image,label] in enumerate(train_loader):\n",
    "        x = image.to(device)\n",
    "        y_= label.to(device)       \n",
    "        \n",
    "        optimizer.zero_grad()\n",
    "        output = model(x)\n",
    "        \n",
    "        loss = loss_func(output,y_)\n",
    "        loss.backward()\n",
    "        optimizer.step()\n",
    "        loss_sum += loss.item()\n",
    "        \n",
    "    epoch_time = time.localtime(time.time() - epoch_time)\n",
    "    print(loss)\n",
    "    loss_arr.append(loss)\n",
    "    #print(\"Minute of One epoch : \", epoch_time.tm_min)"
   ]
  },
  {
   "cell_type": "code",
   "execution_count": 8,
   "metadata": {},
   "outputs": [],
   "source": [
    "df = df.append({'Num_epoch' : num_epoch,'Learning_rate' : learning_rate, 'Loss_avr' : loss_sum/(len(train_loader)*num_epoch)}, ignore_index=True)"
   ]
  },
  {
   "cell_type": "code",
   "execution_count": 9,
   "metadata": {},
   "outputs": [],
   "source": [
    "df.to_csv(\"./Epoch_Parameter_transition.csv\", mode='a', header=False, index = False)"
   ]
  },
  {
   "cell_type": "markdown",
   "metadata": {},
   "source": [
    "import gc\n",
    "gc.collect()\n",
    "torch.cuda.empty_cache()"
   ]
  },
  {
   "cell_type": "markdown",
   "metadata": {},
   "source": [
    "result_lst = list()\n",
    "y_cnt = 0\n",
    "start = time.time()\n",
    "for j,[image,label] in enumerate(test_loader):\n",
    "    x = image.to(device)\n",
    "    y_= label.to(device)   \n",
    "        \n",
    "    output = model(x)\n",
    "    y_cnt += 1\n",
    "    \n",
    "end = time.localtime(time.time()-start)\n",
    "\n",
    "print(len(output))\n",
    "print(y_cnt)\n",
    "print(end.tm_min)"
   ]
  },
  {
   "cell_type": "markdown",
   "metadata": {},
   "source": [
    "print(torch.max(output))\n",
    "print(y_)\n",
    "print(loss_func(output, y_))"
   ]
  },
  {
   "cell_type": "markdown",
   "metadata": {},
   "source": [
    "performance = result_lst.sum() / len(test_loader)\n",
    "print(performance)"
   ]
  }
 ],
 "metadata": {
  "kernelspec": {
   "display_name": "Python 3",
   "language": "python",
   "name": "python3"
  },
  "language_info": {
   "codemirror_mode": {
    "name": "ipython",
    "version": 3
   },
   "file_extension": ".py",
   "mimetype": "text/x-python",
   "name": "python",
   "nbconvert_exporter": "python",
   "pygments_lexer": "ipython3",
   "version": "3.7.6"
  }
 },
 "nbformat": 4,
 "nbformat_minor": 4
}
