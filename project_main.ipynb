{
 "cells": [
  {
   "cell_type": "code",
   "execution_count": 1,
   "metadata": {},
   "outputs": [],
   "source": [
    "import numpy as np\n",
    "import torch\n",
    "import torch.nn as nn\n",
    "import torch.optim as optim\n",
    "import torch.nn.init as init\n",
    "import torch.utils.data as data\n",
    "import torchvision.datasets as dset\n",
    "import torchvision.transforms as transforms\n",
    "from torch.utils.data import DataLoader\n",
    "\n",
    "import matplotlib.pyplot as plt\n",
    "\n",
    "import time"
   ]
  },
  {
   "cell_type": "code",
   "execution_count": 2,
   "metadata": {},
   "outputs": [],
   "source": [
    "import torchvision.models as models\n",
    "\n",
    "model = models.resnet50(pretrained=False).cuda()"
   ]
  },
  {
   "cell_type": "code",
   "execution_count": 3,
   "metadata": {},
   "outputs": [],
   "source": [
    "batch_size= 2\n",
    "learning_rate = 0.0002\n",
    "num_epoch = 10"
   ]
  },
  {
   "cell_type": "code",
   "execution_count": 5,
   "metadata": {},
   "outputs": [],
   "source": [
    "train_dir = \"./train_images\"\n",
    "\n",
    "train_data = dset.ImageFolder(train_dir, transforms.Compose([\n",
    "                                    transforms.Resize(280),                   \n",
    "                                    transforms.CenterCrop(224),               \n",
    "                                    transforms.ToTensor(),\n",
    "                                    transforms.Normalize([0.485, 0.456, 0.406],\n",
    "                                    [0.229, 0.224, 0.225])\n",
    "            ]))\n",
    "train_loader = data.DataLoader(train_data, batch_size=batch_size,\n",
    "                            shuffle=True, num_workers=3)\n",
    "\n",
    "test_dir = \"./test_images\"\n",
    "\n",
    "test_data = dset.ImageFolder(test_dir, transforms.Compose([\n",
    "                                    transforms.Resize(280),                   \n",
    "                                    transforms.CenterCrop(224),               \n",
    "                                    transforms.ToTensor(),\n",
    "                                    transforms.Normalize([0.485, 0.456, 0.406],\n",
    "                                    [0.229, 0.224, 0.225])\n",
    "            ]))\n",
    "\n",
    "test_loader = data.DataLoader(test_data, batch_size=1,\n",
    "                            shuffle=False, num_workers=3)"
   ]
  },
  {
   "cell_type": "code",
   "execution_count": 6,
   "metadata": {},
   "outputs": [
    {
     "name": "stdout",
     "output_type": "stream",
     "text": [
      "cuda:0\n"
     ]
    }
   ],
   "source": [
    "device = torch.device(\"cuda:0\" if torch.cuda.is_available() else \"cpu\")\n",
    "print(device)\n",
    "    \n",
    "loss_func = nn.CrossEntropyLoss()\n",
    "optimizer = optim.Adam(model.parameters(),lr=learning_rate)\n",
    "loss_sum = 0\n",
    "loss_arr = []"
   ]
  },
  {
   "cell_type": "code",
   "execution_count": 7,
   "metadata": {},
   "outputs": [
    {
     "name": "stdout",
     "output_type": "stream",
     "text": [
      "tensor(1.2841, device='cuda:0', grad_fn=<NllLossBackward>)\n",
      "tensor(3.1323, device='cuda:0', grad_fn=<NllLossBackward>)\n",
      "tensor(2.2905, device='cuda:0', grad_fn=<NllLossBackward>)\n",
      "tensor(2.3426, device='cuda:0', grad_fn=<NllLossBackward>)\n",
      "tensor(1.4567, device='cuda:0', grad_fn=<NllLossBackward>)\n",
      "tensor(1.6999, device='cuda:0', grad_fn=<NllLossBackward>)\n",
      "tensor(0.8815, device='cuda:0', grad_fn=<NllLossBackward>)\n",
      "tensor(1.1162, device='cuda:0', grad_fn=<NllLossBackward>)\n",
      "tensor(1.6547, device='cuda:0', grad_fn=<NllLossBackward>)\n",
      "tensor(2.8314, device='cuda:0', grad_fn=<NllLossBackward>)\n"
     ]
    }
   ],
   "source": [
    "for i in range(num_epoch):\n",
    "    \n",
    "    for j,[image,label] in enumerate(train_loader):\n",
    "        x = image.to(device)\n",
    "        y_= label.to(device)       \n",
    "        \n",
    "        optimizer.zero_grad()\n",
    "        output = model(x)\n",
    "        \n",
    "        loss = loss_func(output,y_)\n",
    "        loss.backward()\n",
    "        optimizer.step()\n",
    "        loss_sum += loss.item()\n",
    "\n",
    "    print(loss)\n",
    "    loss_arr.append(loss)"
   ]
  },
  {
   "cell_type": "code",
   "execution_count": 13,
   "metadata": {},
   "outputs": [
    {
     "name": "stdout",
     "output_type": "stream",
     "text": [
      "Accuracy :  10.26019313304721 %\n"
     ]
    }
   ],
   "source": [
    "import math\n",
    "\n",
    "result = 0\n",
    "\n",
    "for j,[image,label] in enumerate(test_loader):\n",
    "    x = image.to(device)\n",
    "    y_= label.to(device)   \n",
    "        \n",
    "    output = model(x)    \n",
    "    \n",
    "    if round(torch.max(output).item()) == y_.item() :\n",
    "        result += 1\n",
    "\n",
    "print(\"Accuracy : \", result/len(test_loader) * 100, \"%\")"
   ]
  }
 ],
 "metadata": {
  "kernelspec": {
   "display_name": "Python 3",
   "language": "python",
   "name": "python3"
  },
  "language_info": {
   "codemirror_mode": {
    "name": "ipython",
    "version": 3
   },
   "file_extension": ".py",
   "mimetype": "text/x-python",
   "name": "python",
   "nbconvert_exporter": "python",
   "pygments_lexer": "ipython3",
   "version": "3.7.6"
  }
 },
 "nbformat": 4,
 "nbformat_minor": 4
}
